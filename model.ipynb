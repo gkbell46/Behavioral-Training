{
 "cells": [
  {
   "cell_type": "code",
   "execution_count": 1,
   "metadata": {
    "collapsed": false
   },
   "outputs": [
    {
     "name": "stderr",
     "output_type": "stream",
     "text": [
      "Using TensorFlow backend.\n"
     ]
    }
   ],
   "source": [
    "import csv\n",
    "import cv2\n",
    "import numpy as np\n",
    "import keras\n",
    "from keras.models import Sequential\n",
    "from keras.layers import Flatten, Dense, Activation, Lambda, MaxPooling2D, Dropout\n",
    "from keras.layers.convolutional import Convolution2D\n",
    "from keras.models import Model"
   ]
  },
  {
   "cell_type": "code",
   "execution_count": 2,
   "metadata": {
    "collapsed": false
   },
   "outputs": [],
   "source": [
    "def readcsvfile():\n",
    "    lines = []\n",
    "    with open('./data/data/old_data/driving_log.csv') as csvfile:\n",
    "        reader = csv.reader(csvfile)\n",
    "        print(reader)\n",
    "        for line in reader:\n",
    "            lines.append(line)\n",
    "    return lines"
   ]
  },
  {
   "cell_type": "code",
   "execution_count": 3,
   "metadata": {
    "collapsed": false
   },
   "outputs": [],
   "source": [
    "def data_generator_correction(lines):\n",
    "    images= []\n",
    "    measurements = []\n",
    "    correction = 0.15\n",
    "    for line in lines:\n",
    "        for i in range(3):\n",
    "            source_path = line[i]\n",
    "            #print(\"Source_path\",source_path)\n",
    "            tokens = source_path.split('/')\n",
    "            filename = tokens[-1]\n",
    "            local_path = './data/data/IMG/'+filename\n",
    "            image = cv2.imread(local_path)\n",
    "            #cv2.imshow(\"image\",image)\n",
    "            #cv2.waitKey(0)\n",
    "            images.append(image)\n",
    "            measurement = float(line[3])\n",
    "            if (i==0):\n",
    "                measurements.append(measurement)\n",
    "            elif (i==1):\n",
    "                measurements.append(measurement+correction)\n",
    "            elif(i==2):\n",
    "                measurements.append(measurement-correction)\n",
    "    return images, measurements"
   ]
  },
  {
   "cell_type": "code",
   "execution_count": 4,
   "metadata": {
    "collapsed": true
   },
   "outputs": [],
   "source": [
    "def img_resize(img):\n",
    "    #path = os.path.join(FLAGS.img_path,img)\n",
    "    #image =cv2.imread(path)\n",
    "    #cv2.imshow(\"resize\",img)\n",
    "    #cv2.waitKey(0)\n",
    "    ratio = img[64:130,:,:]\n",
    "    res_image = cv2.resize(ratio,(64,64),interpolation=cv2.INTER_AREA)\n",
    "    #cv2.imshow(\"resize\",res_image)\n",
    "    #cv2.waitKey(0)\n",
    "    return res_image"
   ]
  },
  {
   "cell_type": "code",
   "execution_count": 5,
   "metadata": {
    "collapsed": false
   },
   "outputs": [],
   "source": [
    "def resize_images(images):\n",
    "    for i in range(len(images)):\n",
    "        images[i]= img_resize(images[i])\n",
    "    return images\n",
    "    "
   ]
  },
  {
   "cell_type": "code",
   "execution_count": 6,
   "metadata": {
    "collapsed": false
   },
   "outputs": [],
   "source": [
    "def augument(images,measurements):    \n",
    "    augumented_images = []\n",
    "    augumented_measurements = []\n",
    "    #print(images[2])\n",
    "    for image,measurement in zip(images,measurements):\n",
    "        augumented_images.append(image)\n",
    "        #print(image+1)\n",
    "        augumented_measurements.append(measurement)\n",
    "        flipped_image = cv2.flip(image,1)\n",
    "        #print(measurement)\n",
    "        flipped_measurement = float(measurement) * -1.0\n",
    "        augumented_images.append(flipped_image)\n",
    "        augumented_measurements.append(flipped_measurement)\n",
    "    return augumented_images, augumented_measurements"
   ]
  },
  {
   "cell_type": "code",
   "execution_count": 7,
   "metadata": {
    "collapsed": true
   },
   "outputs": [],
   "source": [
    "def gen_training_data(augumented_images,augumented_measurements):\n",
    "    X_train = np.array(augumented_images)\n",
    "    y_train = np.array(augumented_measurements)\n",
    "    return X_train, y_train"
   ]
  },
  {
   "cell_type": "code",
   "execution_count": null,
   "metadata": {
    "collapsed": false
   },
   "outputs": [],
   "source": []
  },
  {
   "cell_type": "code",
   "execution_count": 8,
   "metadata": {
    "collapsed": false
   },
   "outputs": [],
   "source": [
    "def run_model(X_train,y_train,nb_epochs):\n",
    "    model = Sequential()\n",
    "    model.add(Lambda(lambda x:x/255.0-0.5, input_shape=(64,64,3)))\n",
    "    model.add(Convolution2D(24,5,5,subsample=(2,2),activation='relu'))\n",
    "    model.add(Convolution2D(36,5,5,subsample=(2,2),activation='relu'))\n",
    "    model.add(MaxPooling2D(strides=(1,1)))\n",
    "    model.add(Convolution2D(48,5,5,subsample=(2,2),activation='relu'))\n",
    "    model.add(MaxPooling2D(strides=(1,1)))\n",
    "    model.add(Convolution2D(64,1,1,activation='relu'))\n",
    "    model.add(Dropout(0.5))\n",
    "    model.add(MaxPooling2D(pool_size=(1, 1),strides=(1,1)))\n",
    "    model.add(Convolution2D(64,3,3,activation='relu'))\n",
    "    model.add(MaxPooling2D(pool_size=(1, 1),strides=(1,1)))\n",
    "    model.add(Flatten())\n",
    "    model.add(Dense(1164))\n",
    "    model.add(Dense(100))\n",
    "    model.add(Dense(50))\n",
    "    model.add(Dense(10))\n",
    "    model.add(Dense(1))\n",
    "    model.summary()\n",
    "\n",
    "    model.compile(optimizer='adam',loss='mse')\n",
    "    model.fit(X_train,y_train,nb_epoch =nb_epochs,validation_split=0.2,shuffle=True)\n",
    "\n",
    "    model.save('model.h5')\n",
    "    \n",
    "    model.save_weights('model.h5')\n",
    "    with open('model.json', 'w') as outfile:\n",
    "        outfile.write(model.to_json())\n",
    "    json_string = model.to_json()\n",
    "    with open('model'+str(5)+'.json', 'w') as outfile:\n",
    "        outfile.write(json_string)\n",
    "    model.save_weights('model'+str(5)+'.h5')\n",
    "    print('Model saved')"
   ]
  },
  {
   "cell_type": "code",
   "execution_count": 9,
   "metadata": {
    "collapsed": false,
    "scrolled": true
   },
   "outputs": [
    {
     "name": "stdout",
     "output_type": "stream",
     "text": [
      "<_csv.reader object at 0x0000000009006F50>\n",
      "8036\n",
      "24108\n",
      "24108\n",
      "____________________________________________________________________________________________________\n",
      "Layer (type)                     Output Shape          Param #     Connected to                     \n",
      "====================================================================================================\n",
      "lambda_1 (Lambda)                (None, 64, 64, 3)     0           lambda_input_1[0][0]             \n",
      "____________________________________________________________________________________________________\n",
      "convolution2d_1 (Convolution2D)  (None, 30, 30, 24)    1824        lambda_1[0][0]                   \n",
      "____________________________________________________________________________________________________\n",
      "convolution2d_2 (Convolution2D)  (None, 13, 13, 36)    21636       convolution2d_1[0][0]            \n",
      "____________________________________________________________________________________________________\n",
      "maxpooling2d_1 (MaxPooling2D)    (None, 12, 12, 36)    0           convolution2d_2[0][0]            \n",
      "____________________________________________________________________________________________________\n",
      "convolution2d_3 (Convolution2D)  (None, 4, 4, 48)      43248       maxpooling2d_1[0][0]             \n",
      "____________________________________________________________________________________________________\n",
      "maxpooling2d_2 (MaxPooling2D)    (None, 3, 3, 48)      0           convolution2d_3[0][0]            \n",
      "____________________________________________________________________________________________________\n",
      "convolution2d_4 (Convolution2D)  (None, 3, 3, 64)      3136        maxpooling2d_2[0][0]             \n",
      "____________________________________________________________________________________________________\n",
      "dropout_1 (Dropout)              (None, 3, 3, 64)      0           convolution2d_4[0][0]            \n",
      "____________________________________________________________________________________________________\n",
      "maxpooling2d_3 (MaxPooling2D)    (None, 3, 3, 64)      0           dropout_1[0][0]                  \n",
      "____________________________________________________________________________________________________\n",
      "convolution2d_5 (Convolution2D)  (None, 1, 1, 64)      36928       maxpooling2d_3[0][0]             \n",
      "____________________________________________________________________________________________________\n",
      "maxpooling2d_4 (MaxPooling2D)    (None, 1, 1, 64)      0           convolution2d_5[0][0]            \n",
      "____________________________________________________________________________________________________\n",
      "flatten_1 (Flatten)              (None, 64)            0           maxpooling2d_4[0][0]             \n",
      "____________________________________________________________________________________________________\n",
      "dense_1 (Dense)                  (None, 1164)          75660       flatten_1[0][0]                  \n",
      "____________________________________________________________________________________________________\n",
      "dense_2 (Dense)                  (None, 100)           116500      dense_1[0][0]                    \n",
      "____________________________________________________________________________________________________\n",
      "dense_3 (Dense)                  (None, 50)            5050        dense_2[0][0]                    \n",
      "____________________________________________________________________________________________________\n",
      "dense_4 (Dense)                  (None, 10)            510         dense_3[0][0]                    \n",
      "____________________________________________________________________________________________________\n",
      "dense_5 (Dense)                  (None, 1)             11          dense_4[0][0]                    \n",
      "====================================================================================================\n",
      "Total params: 304,503\n",
      "Trainable params: 304,503\n",
      "Non-trainable params: 0\n",
      "____________________________________________________________________________________________________\n",
      "Train on 38572 samples, validate on 9644 samples\n",
      "Epoch 1/3\n",
      "38572/38572 [==============================] - 72s - loss: 0.0151 - val_loss: 0.0138\n",
      "Epoch 2/3\n",
      "38572/38572 [==============================] - 73s - loss: 0.0129 - val_loss: 0.0139\n",
      "Epoch 3/3\n",
      "38572/38572 [==============================] - 73s - loss: 0.0121 - val_loss: 0.0129\n",
      "Model saved\n"
     ]
    }
   ],
   "source": [
    "lines = readcsvfile() \n",
    "images , measurements = data_generator_correction(lines)\n",
    "images = resize_images(images)\n",
    "augumented_images, augumented_measurements = augument(images, measurements)\n",
    "X_train, y_train = gen_training_data(augumented_images,augumented_measurements)\n",
    "nb_epochs = 3\n",
    "\n",
    "print(len(lines))\n",
    "print(len(images))\n",
    "print(len(measurements))\n",
    "run_model(X_train,y_train,nb_epochs)"
   ]
  },
  {
   "cell_type": "code",
   "execution_count": null,
   "metadata": {
    "collapsed": false
   },
   "outputs": [],
   "source": []
  },
  {
   "cell_type": "code",
   "execution_count": null,
   "metadata": {
    "collapsed": false
   },
   "outputs": [],
   "source": []
  },
  {
   "cell_type": "code",
   "execution_count": null,
   "metadata": {
    "collapsed": true
   },
   "outputs": [],
   "source": []
  }
 ],
 "metadata": {
  "anaconda-cloud": {},
  "kernelspec": {
   "display_name": "Python [conda env:CarND-Behavioural-Training]",
   "language": "python",
   "name": "conda-env-CarND-Behavioural-Training-py"
  },
  "language_info": {
   "codemirror_mode": {
    "name": "ipython",
    "version": 3
   },
   "file_extension": ".py",
   "mimetype": "text/x-python",
   "name": "python",
   "nbconvert_exporter": "python",
   "pygments_lexer": "ipython3",
   "version": "3.5.2"
  }
 },
 "nbformat": 4,
 "nbformat_minor": 2
}
